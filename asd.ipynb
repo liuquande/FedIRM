{
 "cells": [
  {
   "cell_type": "code",
   "execution_count": 4,
   "metadata": {},
   "outputs": [],
   "source": [
    "import os\n",
    "import pandas as pd"
   ]
  },
  {
   "cell_type": "code",
   "execution_count": 5,
   "metadata": {},
   "outputs": [],
   "source": [
    "test_dir = \"./test_csv\""
   ]
  },
  {
   "cell_type": "code",
   "execution_count": 8,
   "metadata": {},
   "outputs": [
    {
     "data": {
      "text/plain": [
       "['test_for_brain_ssfl.csv',\n",
       " 'test_for_brain_sup.csv',\n",
       " 'test_for_ham10000_ssfl.csv',\n",
       " 'test_for_ham10000_sup.csv',\n",
       " 'test_for_isic2019_ssfl.csv',\n",
       " 'test_for_isic2019_sup.csv']"
      ]
     },
     "execution_count": 8,
     "metadata": {},
     "output_type": "execute_result"
    }
   ],
   "source": [
    "csv_paths = os.listdir(test_dir)\n",
    "csv_paths"
   ]
  },
  {
   "cell_type": "code",
   "execution_count": 9,
   "metadata": {},
   "outputs": [
    {
     "name": "stdout",
     "output_type": "stream",
     "text": [
      "./test_csv/test_for_brain_ssfl.csv\n",
      "   thresh     AUROC      Accu      Sens      Spec        f1\n",
      "9    0.49  0.855802  0.885121  0.572585  0.926053  0.882895\n",
      "====================================================================================================\n",
      "./test_csv/test_for_brain_sup.csv\n",
      "    thresh     AUROC      Accu      Sens      Spec        f1\n",
      "33    0.73  0.870649  0.919593  0.609549  0.954021  0.915504\n",
      "====================================================================================================\n",
      "./test_csv/test_for_ham10000_ssfl.csv\n",
      "   thresh     AUROC      Accu      Sens      Spec        f1\n",
      "4    0.44  0.934463  0.947702  0.630073  0.954135  0.946616\n",
      "====================================================================================================\n",
      "./test_csv/test_for_ham10000_sup.csv\n",
      "    thresh     AUROC      Accu      Sens      Spec        f1\n",
      "24    0.64  0.976163  0.972497  0.785325  0.976413  0.971358\n",
      "====================================================================================================\n",
      "./test_csv/test_for_isic2019_ssfl.csv\n",
      "    thresh   AUROC     Accu      Sens      Spec        f1\n",
      "12    0.52  0.8703  0.93549  0.387144  0.957475  0.931673\n",
      "====================================================================================================\n",
      "./test_csv/test_for_isic2019_sup.csv\n",
      "   thresh     AUROC      Accu      Sens      Spec        f1\n",
      "6    0.46  0.959848  0.964934  0.759575  0.973655  0.964131\n",
      "====================================================================================================\n"
     ]
    }
   ],
   "source": [
    "# loop through all csv files and find the best threshold according to the f1 for each csv file\n",
    "for csv_path in csv_paths:\n",
    "\t\tcsv_path = os.path.join(test_dir, csv_path)\n",
    "\t\tprint(csv_path)\n",
    "\t\tdf = pd.read_csv(csv_path)\n",
    "\t\tdf = df.sort_values(by=\"f1\", ascending=False)\n",
    "\t\tprint(df.head(1))\n",
    "\t\tprint(100 * \"=\")"
   ]
  }
 ],
 "metadata": {
  "kernelspec": {
   "display_name": "fedIRM",
   "language": "python",
   "name": "python3"
  },
  "language_info": {
   "codemirror_mode": {
    "name": "ipython",
    "version": 3
   },
   "file_extension": ".py",
   "mimetype": "text/x-python",
   "name": "python",
   "nbconvert_exporter": "python",
   "pygments_lexer": "ipython3",
   "version": "3.10.8"
  },
  "orig_nbformat": 4
 },
 "nbformat": 4,
 "nbformat_minor": 2
}
